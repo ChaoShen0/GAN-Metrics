{
 "cells": [
  {
   "cell_type": "code",
   "execution_count": 12,
   "metadata": {},
   "outputs": [],
   "source": [
    "import numpy as np\n",
    "import matplotlib.pyplot as plt\n",
    "import matplotlib.image as mpimg\n",
    "import imageio\n",
    "import glob"
   ]
  },
  {
   "cell_type": "code",
   "execution_count": 13,
   "metadata": {},
   "outputs": [],
   "source": [
    "base_dir = '/home/gh349/xqt/new_gan_exps/'\n",
    "metrics = np.load('%s/results/score_tr_ep%d.npy' % (base_dir, 24))"
   ]
  },
  {
   "cell_type": "code",
   "execution_count": 19,
   "metadata": {},
   "outputs": [
    {
     "name": "stdout",
     "output_type": "stream",
     "text": [
      "0\n",
      "1\n",
      "2\n",
      "3\n",
      "4\n",
      "5\n",
      "6\n",
      "7\n",
      "8\n",
      "9\n",
      "10\n",
      "11\n",
      "12\n",
      "13\n",
      "14\n",
      "15\n",
      "16\n",
      "17\n",
      "18\n",
      "19\n",
      "20\n",
      "21\n",
      "22\n",
      "23\n",
      "24\n"
     ]
    }
   ],
   "source": [
    "n_epoch = 25\n",
    "\n",
    "x = range(n_epoch)\n",
    "metric_name = ['EMD', 'MMD', 'kNN Score', 'Inception Score', 'Mode Score', 'FID']\n",
    "metric_id = [7, 8, 9, 28, 29, 30]\n",
    "\n",
    "for ep in range(n_epoch):\n",
    "    print(ep)\n",
    "    f = plt.figure(figsize=[16, 8])\n",
    "    for i in range(6):\n",
    "        ax = plt.subplot(6,2,2*i+2)\n",
    "        ax.plot(x, metrics[:, metric_id[i]], label=metric_name[i])\n",
    "        ax.legend(loc=1)\n",
    "        ax.axvline(x=ep, color='r', linestyle = '--')\n",
    "\n",
    "    ax = plt.subplot(1,2,1)\n",
    "    img = mpimg.imread('{}/results/fake_samples_epoch_{}.png'.format(base_dir, str(ep).zfill(3)))\n",
    "    ax.imshow(img)\n",
    "\n",
    "    plt.tight_layout()\n",
    "    f.savefig('{}/demo/{}.png'.format(base_dir, str(ep).zfill(3)), dpi=70, bbox_inches='tight')\n",
    "    plt.close(f)"
   ]
  },
  {
   "cell_type": "code",
   "execution_count": 20,
   "metadata": {},
   "outputs": [
    {
     "name": "stdout",
     "output_type": "stream",
     "text": [
      "/home/gh349/xqt/new_gan_exps//demo/000.png\n",
      "/home/gh349/xqt/new_gan_exps//demo/001.png\n",
      "/home/gh349/xqt/new_gan_exps//demo/002.png\n",
      "/home/gh349/xqt/new_gan_exps//demo/003.png\n",
      "/home/gh349/xqt/new_gan_exps//demo/004.png\n",
      "/home/gh349/xqt/new_gan_exps//demo/005.png\n",
      "/home/gh349/xqt/new_gan_exps//demo/006.png\n",
      "/home/gh349/xqt/new_gan_exps//demo/007.png\n",
      "/home/gh349/xqt/new_gan_exps//demo/008.png\n",
      "/home/gh349/xqt/new_gan_exps//demo/009.png\n",
      "/home/gh349/xqt/new_gan_exps//demo/010.png\n",
      "/home/gh349/xqt/new_gan_exps//demo/011.png\n",
      "/home/gh349/xqt/new_gan_exps//demo/012.png\n",
      "/home/gh349/xqt/new_gan_exps//demo/013.png\n",
      "/home/gh349/xqt/new_gan_exps//demo/014.png\n",
      "/home/gh349/xqt/new_gan_exps//demo/015.png\n",
      "/home/gh349/xqt/new_gan_exps//demo/016.png\n",
      "/home/gh349/xqt/new_gan_exps//demo/017.png\n",
      "/home/gh349/xqt/new_gan_exps//demo/018.png\n",
      "/home/gh349/xqt/new_gan_exps//demo/019.png\n",
      "/home/gh349/xqt/new_gan_exps//demo/020.png\n",
      "/home/gh349/xqt/new_gan_exps//demo/021.png\n",
      "/home/gh349/xqt/new_gan_exps//demo/022.png\n",
      "/home/gh349/xqt/new_gan_exps//demo/023.png\n",
      "/home/gh349/xqt/new_gan_exps//demo/024.png\n"
     ]
    }
   ],
   "source": [
    "file_list = glob.glob(base_dir + '/demo/*.png')\n",
    "images = []\n",
    "for filename in file_list:\n",
    "    print(filename)\n",
    "    images.append(imageio.imread(filename))\n",
    "imageio.mimsave('demo.gif', images, duration=0.5)"
   ]
  },
  {
   "cell_type": "code",
   "execution_count": null,
   "metadata": {},
   "outputs": [],
   "source": []
  }
 ],
 "metadata": {
  "kernelspec": {
   "display_name": "Python 3",
   "language": "python",
   "name": "python3"
  },
  "language_info": {
   "codemirror_mode": {
    "name": "ipython",
    "version": 3
   },
   "file_extension": ".py",
   "mimetype": "text/x-python",
   "name": "python",
   "nbconvert_exporter": "python",
   "pygments_lexer": "ipython3",
   "version": "3.6.4"
  }
 },
 "nbformat": 4,
 "nbformat_minor": 2
}
